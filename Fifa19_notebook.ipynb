{
 "cells": [
  {
   "cell_type": "code",
   "execution_count": 1,
   "metadata": {},
   "outputs": [],
   "source": [
    "import pandas as pd\n",
    "import numpy as np\n",
    "from sklearn.preprocessing import LabelEncoder"
   ]
  },
  {
   "cell_type": "code",
   "execution_count": 2,
   "metadata": {},
   "outputs": [],
   "source": [
    "pd.set_option('display.max_rows', 1000)\n",
    "pd.set_option('display.max_columns', 500)\n",
    "pd.set_option('display.width', 1000)"
   ]
  },
  {
   "cell_type": "code",
   "execution_count": 3,
   "metadata": {},
   "outputs": [],
   "source": [
    "df = pd.read_csv('data.csv')"
   ]
  },
  {
   "cell_type": "markdown",
   "metadata": {},
   "source": [
    "## Grouping Players Dataset by Teams"
   ]
  },
  {
   "cell_type": "code",
   "execution_count": 4,
   "metadata": {},
   "outputs": [],
   "source": [
    "df_teams = df"
   ]
  },
  {
   "cell_type": "markdown",
   "metadata": {},
   "source": [
    "### Dropping NaNs in `Club` and `Position` Features"
   ]
  },
  {
   "cell_type": "code",
   "execution_count": 5,
   "metadata": {},
   "outputs": [],
   "source": [
    "df_teams = df_teams.drop('Unnamed: 0', axis=1)"
   ]
  },
  {
   "cell_type": "code",
   "execution_count": 6,
   "metadata": {},
   "outputs": [],
   "source": [
    "df_teams = df_teams.dropna(subset=['Club', 'Position'], axis=0)"
   ]
  },
  {
   "cell_type": "markdown",
   "metadata": {},
   "source": [
    "### Goal Keeper rows: Replacing NaNs with 0s in `Position` Column"
   ]
  },
  {
   "cell_type": "code",
   "execution_count": 7,
   "metadata": {},
   "outputs": [],
   "source": [
    "# Raplacing NaNs with 0s for Goal Keeper rows\n",
    "df_teams.iloc[:,27:53] = df_teams.iloc[:,27:53].fillna(value=0)"
   ]
  },
  {
   "cell_type": "markdown",
   "metadata": {},
   "source": [
    "### Dropping `Joined` and Replacing NaNs in `Release Clause` and `Loaned From`"
   ]
  },
  {
   "cell_type": "code",
   "execution_count": 8,
   "metadata": {},
   "outputs": [],
   "source": [
    "# Dropping 'Joined' column\n",
    "df_teams = df_teams.drop('Joined', axis=1)"
   ]
  },
  {
   "cell_type": "code",
   "execution_count": 9,
   "metadata": {},
   "outputs": [],
   "source": [
    "# Replacing NaNs in 'Release Clause' and 'Loaned From' features\n",
    "df_teams['Release Clause'] = df_teams['Release Clause'].fillna(0)\n",
    "df_teams['Loaned From'] = df_teams['Loaned From'].fillna('Not Loaned')"
   ]
  },
  {
   "cell_type": "markdown",
   "metadata": {},
   "source": [
    "### Adding `Field Position` Feature"
   ]
  },
  {
   "cell_type": "code",
   "execution_count": 10,
   "metadata": {},
   "outputs": [],
   "source": [
    "defense = ['CB', 'RB', 'LB', 'RWB', 'LWB', 'RCB', 'LCB']\n",
    "midfield = ['RW', 'LW', 'RM', 'LM', 'CM', 'CDM', 'CAM', 'RCM', 'LCM', 'LAM', 'RAM', 'RDM', 'LDM']\n",
    "attack = ['ST', 'CF', 'RF', 'LF', 'RS', 'LS']\n",
    "goalkeeper = ['GK']"
   ]
  },
  {
   "cell_type": "code",
   "execution_count": 11,
   "metadata": {},
   "outputs": [],
   "source": [
    "# function to create Field Position for each player\n",
    "def field(row):\n",
    "    if row['Position'] in defense:\n",
    "        val = 'Defense'\n",
    "    elif row['Position'] in midfield:\n",
    "        val = 'Midfield'\n",
    "    elif row['Position'] in attack:\n",
    "        val = 'Attack'\n",
    "    else:\n",
    "        val = 'GK'\n",
    "    return val"
   ]
  },
  {
   "cell_type": "code",
   "execution_count": 12,
   "metadata": {},
   "outputs": [],
   "source": [
    "df_teams['Field Position'] = df_teams.apply(field, axis=1)"
   ]
  },
  {
   "cell_type": "markdown",
   "metadata": {},
   "source": [
    "### Editing values in `Value` and `Wage` columns"
   ]
  },
  {
   "cell_type": "code",
   "execution_count": 13,
   "metadata": {},
   "outputs": [],
   "source": [
    "def change_value(row):\n",
    "    if (row['Value'][-1]=='K'):\n",
    "        return int(pd.to_numeric(row['Value'][1:-1])*1000)\n",
    "    elif (row['Value'][-1]=='M'):\n",
    "        return int(pd.to_numeric(row['Value'][1:-1])*1000000)\n",
    "    elif (row['Value'][-1]=='0'):\n",
    "        return 0"
   ]
  },
  {
   "cell_type": "code",
   "execution_count": 14,
   "metadata": {},
   "outputs": [],
   "source": [
    "df_teams['Value'] = df_teams.apply(change_value, axis=1)"
   ]
  },
  {
   "cell_type": "code",
   "execution_count": 15,
   "metadata": {},
   "outputs": [],
   "source": [
    "def change_wage(row):\n",
    "    if (row['Wage'][-1]=='K'):\n",
    "        return (pd.to_numeric(row['Wage'][1:-1]))\n",
    "    elif (row['Wage'][-1]=='0'):\n",
    "        return 0"
   ]
  },
  {
   "cell_type": "code",
   "execution_count": 16,
   "metadata": {},
   "outputs": [],
   "source": [
    "df_teams['Wage'] = df_teams.apply(change_wage, axis=1)"
   ]
  },
  {
   "cell_type": "markdown",
   "metadata": {},
   "source": [
    "### Applying Player Overvalue Ratio"
   ]
  },
  {
   "cell_type": "code",
   "execution_count": 17,
   "metadata": {},
   "outputs": [],
   "source": [
    "df_teams['Overvalue Ratio'] = df_teams['Wage'] / df_teams['Overall']\n",
    "df_teams['Overvalue Ratio'] = df_teams['Overvalue Ratio'].apply(lambda x: round(x,2))"
   ]
  },
  {
   "cell_type": "markdown",
   "metadata": {},
   "source": [
    "### Multiplying Wage by 1000"
   ]
  },
  {
   "cell_type": "code",
   "execution_count": 18,
   "metadata": {},
   "outputs": [],
   "source": [
    "df_teams['Wage'] = df_teams['Wage']*1000"
   ]
  },
  {
   "cell_type": "markdown",
   "metadata": {},
   "source": [
    "### Adding New Feature: Field Position Num (Numerically Encoded Field Positions)"
   ]
  },
  {
   "cell_type": "code",
   "execution_count": 19,
   "metadata": {},
   "outputs": [],
   "source": [
    "le = LabelEncoder()\n",
    "df_teams['Field Position Num'] = le.fit_transform(df_teams['Field Position'])"
   ]
  },
  {
   "cell_type": "markdown",
   "metadata": {},
   "source": [
    "### Getting Club players"
   ]
  },
  {
   "cell_type": "code",
   "execution_count": 20,
   "metadata": {},
   "outputs": [],
   "source": [
    "def get_club_players(club):\n",
    "    if club in df_teams.Club.values:\n",
    "        club_players = []\n",
    "        club = df_teams['Club'] == club\n",
    "        vals = df_teams.loc[club]\n",
    "        \n",
    "        names = list(vals['Name'])\n",
    "        overvalue_ratios = list(vals['Overvalue Ratio'])\n",
    "        potential = list(vals['Potential'])\n",
    "        overall_ratings = list(vals['Overall'])  # list of player ratings from highest to lowest\n",
    "        position = list(vals['Position'])\n",
    "        wage = list(vals['Wage'])\n",
    "        \n",
    "    # If club is a user's 'custom' club    \n",
    "    elif type(club) == list:\n",
    "        player_indexes = []\n",
    "        for dic in club:\n",
    "            for key, value in dic.items():\n",
    "                if key == \"id\":\n",
    "                    player_indexes.append(value -1)\n",
    "        \n",
    "        names = df_teams.iloc[player_indexes]['Name'].values\n",
    "        overvalue_ratios = df_teams.iloc[player_indexes]['Overvalue Ratio'].values\n",
    "        potential = df_teams.iloc[player_indexes]['Potential'].values\n",
    "        overall_ratings = df_teams.iloc[player_indexes]['Overall'].values\n",
    "        position = df_teams.iloc[player_indexes]['Position'].values\n",
    "        wage = df_teams.iloc[player_indexes]['Wage'].values\n",
    "    else:\n",
    "        return 'Your club entry was not located.'\n",
    "    \n",
    "    club_list = list(zip(names, position, overvalue_ratios, overall_ratings, potential, wage))\n",
    "\n",
    "    cols = ['Name', 'Position', 'Overvalue Ratio', 'Overall Rating', 'Potential Rating', 'Wage']\n",
    "    df_club_list = pd.DataFrame(data=club_list, columns=cols)\n",
    "\n",
    "\n",
    "    top_2_rated_players = sorted(club_list, key=lambda x: x[2], reverse=True)[:2]\n",
    "\n",
    "    df_top_2_rated_players = pd.DataFrame(data=top_2_rated_players, columns=cols)\n",
    "\n",
    "\n",
    "    bottom_2_rated_players = sorted(club_list, key=lambda x: x[2], reverse=True)[-2:]\n",
    "\n",
    "    df_bottom_2_rated_players = pd.DataFrame(data=bottom_2_rated_players, columns=cols)\n",
    "\n",
    "\n",
    "    # desc_club_list_by_performance_ratio = sorted(club_list, key=lambda x: x[1], reverse=True)\n",
    "\n",
    "    return df_club_list, df_top_2_rated_players, df_bottom_2_rated_players\n",
    "    "
   ]
  },
  {
   "cell_type": "markdown",
   "metadata": {},
   "source": [
    "### Recommender System"
   ]
  },
  {
   "cell_type": "code",
   "execution_count": 21,
   "metadata": {},
   "outputs": [],
   "source": [
    "# dataframe with features for correlation function\n",
    "df_attributes = df_teams[['Field Position Num', 'Overall', 'Potential', 'Crossing', 'Finishing', \n",
    "                          'HeadingAccuracy', 'ShortPassing', 'Volleys', 'Dribbling', 'Curve',\n",
    "                          'FKAccuracy', 'LongPassing', 'BallControl', 'Acceleration', 'SprintSpeed', \n",
    "                          'Agility', 'Reactions', 'Balance', 'ShotPower', 'Jumping', 'Stamina', \n",
    "                          'Strength', 'LongShots', 'Aggression', 'Interceptions', 'Positioning', \n",
    "                          'Vision', 'Penalties', 'Composure', 'Marking']]"
   ]
  },
  {
   "cell_type": "code",
   "execution_count": 22,
   "metadata": {},
   "outputs": [],
   "source": [
    "# Create function that uses above 'suggested' variables to output x players to potentially obtain by trade\n",
    "# for df_attributes dataframe, see above cells\n",
    "\n",
    "def get_suggested_trades(club):  # player argument changed to 'club', after get_club_players refactored\n",
    "    trades_p1 = []  # this will be the output object that club_suggested_changes receives/uses\n",
    "    trades_p2 = []\n",
    "    players_wages = []\n",
    "\n",
    "    if club in df_teams.Club.values or type(club) == list:  # either gets existing club from db, or uses custom list\n",
    "        all_players, top_2, bottom_2 = get_club_players(club)  # df_club_list, df_top_2_players, df_bottom_2_players\n",
    "        \n",
    "        # looping throught 2 player names in 'top_2'\n",
    "        for idx, player in enumerate(top_2.Name):\n",
    "            \n",
    "            # getting 'index' for player in 'df_teams' DF\n",
    "            input_player_index = df_teams[df_teams['Name']==player].index.values[0]\n",
    "            \n",
    "            # getting the 'Overall', 'Potential', and 'Field Position Num'\n",
    "            p_overall = df_teams.iloc[input_player_index]['Overall']\n",
    "            p_potential = df_teams.iloc[input_player_index]['Potential']\n",
    "            p_position = df_teams.iloc[input_player_index]['Field Position Num']\n",
    "            \n",
    "            # getting 'Wage' for player in 'df_teams' DF\n",
    "            # to be used later for 'Post-trade Leftover Wage' in returned DF\n",
    "            input_player_wage = df_teams.iloc[input_player_index]['Wage']\n",
    "            players_wages.append(input_player_wage)\n",
    "            \n",
    "            # getting 'row' for same player in 'df_attributes' using index (No 'Name' col in 'df_attributes')\n",
    "            player_attributes = df_attributes.iloc[input_player_index]\n",
    "            \n",
    "            # filtering attributes logic:\n",
    "            filtered_attributes = df_attributes[(df_attributes['Overall'] > p_overall-10) \n",
    "                                            & (df_attributes['Potential'] > p_potential-10)\n",
    "                                            & (df_attributes['Field Position Num'] == p_position)]\n",
    "\n",
    "            # use filter logic to suggest replacement players - top 5 suggested\n",
    "            # gives DF of with all indexes and correlation ratio\n",
    "            suggested_players = filtered_attributes.corrwith(player_attributes, axis=1)\n",
    "            \n",
    "            # Top 2 suggested players (most positively correlated)\n",
    "            suggested_players = suggested_players.sort_values(ascending=False).head(6)\n",
    "            \n",
    "            cols = ['Name', 'Position', 'Overvalue Ratio', 'Overall', 'Potential', 'Wage']\n",
    "            for i, corr in enumerate(suggested_players):\n",
    "                if idx == 0:\n",
    "                    # player 1 - suggested trades\n",
    "                    trades_p1.append(df_teams[df_teams.index==suggested_players.index[i]][cols].values)\n",
    "                else:\n",
    "                    # player 2 - suggested trades                 \n",
    "                    trades_p2.append(df_teams[df_teams.index==suggested_players.index[i]][cols].values)\n",
    "\n",
    "    cols1 = ['Name', 'Position', 'Overvalue Ratio', 'Overall Rating', 'Potential Rating', 'Wage']\n",
    "    # suggested trades DF for player 1 - dropping 1st row (most positively correlated = same as player 1)\n",
    "    trades_p1_df = pd.DataFrame(np.row_stack(trades_p1), columns=cols1)\n",
    "    trades_p1_df = trades_p1_df.drop(trades_p1_df.index[0]).reset_index(drop=True)\n",
    "    \n",
    "    # suggested trades DF for player 2 - dropping 1st row (most positively correlated = same as player 2)\n",
    "    trades_p2_df = pd.DataFrame(np.row_stack(trades_p2), columns=cols1)\n",
    "    trades_p2_df = trades_p2_df.drop(trades_p2_df.index[0]).reset_index(drop=True)\n",
    "    \n",
    "    #adding 'Post-trade Leftover Wage' column to each returned DF\n",
    "    trades_p1_df['Post-trade Leftover Wage'] = players_wages[0] - trades_p1_df['Wage']\n",
    "    trades_p2_df['Post-trade Leftover Wage'] = players_wages[1] - trades_p2_df['Wage']\n",
    "    \n",
    "    return top_2, bottom_2, trades_p1_df, trades_p2_df"
   ]
  },
  {
   "cell_type": "code",
   "execution_count": 23,
   "metadata": {},
   "outputs": [],
   "source": [
    "# See comment line inside of function just below\n",
    "def get_replacement_players(club):\n",
    "    '''Gets 2 lowest-rated players, and suggests four possible replacements.'''\n",
    "    replacements_p1 = []  # this will be the output object that club_suggested_changes receives/uses\n",
    "    replacements_p2 = []\n",
    "    players_wages = []\n",
    "\n",
    "    if club in df_teams.Club.values or type(club) == list:  # either gets existing club from db, or uses custom list\n",
    "        all_players, top_2, bottom_2 = get_club_players(club)  # df_club_list, df_top_2_players, df_bottom_2_players\n",
    "        \n",
    "        # looping throught 2 player names in 'top_2'\n",
    "        for idx, player in enumerate(bottom_2.Name):\n",
    "            \n",
    "            # getting 'index' for player in 'df_teams' DF\n",
    "            input_player_index = df_teams[df_teams['Name']==player].index.values[0]\n",
    "            \n",
    "            # getting the 'Overall', 'Potential', and 'Field Position Num'\n",
    "            p_overall = df_teams.iloc[input_player_index]['Overall']\n",
    "            p_potential = df_teams.iloc[input_player_index]['Potential']\n",
    "            p_position = df_teams.iloc[input_player_index]['Field Position Num']\n",
    "            \n",
    "            # getting 'Wage' for player in 'df_teams' DF\n",
    "            # to be used later for 'Post-trade Leftover Wage' in returned DF\n",
    "            input_player_wage = df_teams.iloc[input_player_index]['Wage']\n",
    "            players_wages.append(input_player_wage)\n",
    "            \n",
    "            # getting 'row' for same player in 'df_attributes' using index (No 'Name' col in 'df_attributes')\n",
    "            player_attributes = df_attributes.iloc[input_player_index]\n",
    "        \n",
    "            # filtering weak attributes logic:\n",
    "            filtered_weak_attributes = df_attributes[(df_attributes['Overall'] < 87) \n",
    "                                                     & (df_attributes['Potential'] > p_potential)\n",
    "                                                     & (df_attributes['Potential'] < 89)\n",
    "                                                     & (df_attributes['Field Position Num'] == p_position)]\n",
    "\n",
    "            suggested_players = filtered_weak_attributes.corrwith(player_attributes, axis=1)\n",
    "            suggested_players = suggested_players.sort_values(ascending=False).head(3)\n",
    "            \n",
    "            cols = ['Name', 'Position', 'Overvalue Ratio', 'Overall', 'Potential', 'Wage']\n",
    "            for i, corr in enumerate(suggested_players):\n",
    "                if idx == 0:\n",
    "                    # player 1 - suggested replacements\n",
    "                    replacements_p1.append(df_teams[df_teams.index==suggested_players.index[i]][cols].values)\n",
    "                else:\n",
    "                    # player 2 - suggested replacements                 \n",
    "                    replacements_p2.append(df_teams[df_teams.index==suggested_players.index[i]][cols].values)\n",
    "\n",
    "    cols1 = ['Name', 'Position', 'Overvalue Ratio', 'Overall Rating', 'Potential Rating', 'Wage']\n",
    "    \n",
    "    # suggested replacements DF for player 1 - dropping 1st row (most positively correlated = same as player 1)\n",
    "    replacements_p1_df = pd.DataFrame(np.row_stack(replacements_p1), columns=cols1)\n",
    "    replacements_p1_df = replacements_p1_df.drop(replacements_p1_df.index[0]).reset_index(drop=True)\n",
    "    \n",
    "    # suggested replacements DF for player 2 - dropping 1st row (most positively correlated = same as player 2)\n",
    "    replacements_p2_df = pd.DataFrame(np.row_stack(replacements_p2), columns=cols1)\n",
    "    replacements_p2_df = replacements_p2_df.drop(replacements_p2_df.index[0]).reset_index(drop=True)\n",
    "    \n",
    "    #adding 'Post-trade Leftover Wage' column to each returned DF\n",
    "    replacements_p1_df['Post-trade Leftover Wage'] = players_wages[0] - replacements_p1_df['Wage']\n",
    "    replacements_p2_df['Post-trade Leftover Wage'] = players_wages[1] - replacements_p2_df['Wage']\n",
    "    \n",
    "    #print(replacements_p1_df, '\\n')\n",
    "    #print(replacements_p2_df)\n",
    "    \n",
    "    return replacements_p1_df, replacements_p2_df"
   ]
  },
  {
   "cell_type": "code",
   "execution_count": 24,
   "metadata": {},
   "outputs": [],
   "source": [
    "# TODO! --- NEEDS 'club' VARIABLE DEFINED BEFORE UPCOMING CODE BLOCK"
   ]
  },
  {
   "cell_type": "code",
   "execution_count": null,
   "metadata": {},
   "outputs": [],
   "source": [
    "# JSON output\n",
    "allplayers, top2overvalued, bottom2weak = get_club_players(club)\n",
    "top_2, bottom_2, trades_p1_df, trades_p2_df = get_suggested_trades(club)\n",
    "suggestedtrades = [trades_p1_df, trades_p2_df]\n",
    "replacements_p1_df, replacements_p2_df = get_replacement_players(club)\n",
    "suggestedreplacements = [replacements_p1_df, replacements_p2_df]\n",
    "\n",
    "\n",
    "def all_dfs_json():\n",
    "    json_dict = dict({'allplayers': [allplayers], 'top2overvalued': [top2overvalued],\n",
    "                     'suggestedtrades': suggestedtrades, 'bottom2weak': [bottom_2],\n",
    "                     'suggestedreplacements': suggestedreplacements}) \n",
    "    return json_dict"
   ]
  },
  {
   "cell_type": "code",
   "execution_count": null,
   "metadata": {},
   "outputs": [],
   "source": [
    "# TODO! --- NEED TO RUN THE FUNCTION BELOW!\n",
    "# all_dfs_json()"
   ]
  },
  {
   "cell_type": "code",
   "execution_count": null,
   "metadata": {},
   "outputs": [],
   "source": []
  }
 ],
 "metadata": {
  "kernelspec": {
   "display_name": "Python 3",
   "language": "python",
   "name": "python3"
  },
  "language_info": {
   "codemirror_mode": {
    "name": "ipython",
    "version": 3
   },
   "file_extension": ".py",
   "mimetype": "text/x-python",
   "name": "python",
   "nbconvert_exporter": "python",
   "pygments_lexer": "ipython3",
   "version": "3.6.8"
  }
 },
 "nbformat": 4,
 "nbformat_minor": 2
}
